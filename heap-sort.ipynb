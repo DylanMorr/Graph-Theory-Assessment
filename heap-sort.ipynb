{
 "cells": [
  {
   "cell_type": "markdown",
   "metadata": {},
   "source": [
    "# Heap Sort Notebook\n",
    "\n",
    "<br>\n",
    "\n",
    "***"
   ]
  },
  {
   "cell_type": "markdown",
   "metadata": {},
   "source": [
    "## Explanation of the Heap Sort Algoritm\n",
    "\n",
    "***"
   ]
  },
  {
   "cell_type": "markdown",
   "metadata": {},
   "source": [
    "- Heapsort is a very popular and efficient sorting algorithm in most cases.\n",
    "- Heapsort uses a comparison based sorting technique based on the binary heap data structure, this structure is a tree data structure that has at max two child nodes.\n",
    "- The two main forms of sorting used are Max Heap and Min Heap.\n",
    "- Min Heap works by comparing each node in the tree to see if it is higher or lower, if it is lower the elements in the nodes are swapped and the higher element is moved down the tree until the list is fully sorted.\n",
    "- Max Heap does the opposite of min and wants to order the list descending with the biggest elements at the top of the sorted list.\n",
    "- Both of these sorting techniques can be seen in the image below.\n",
    "- The heap before sorting = [50, 20, 40, 10, 70, 30, 60]\n",
    "<br><br>\n",
    "<img src=\"https://miro.medium.com/max/1316/1*02r6G-ho8DPnfiaOIHA2OA.png\" alt=\"Heap Sort Example\" width=\"600\" align=\"left\"/>"
   ]
  },
  {
   "cell_type": "markdown",
   "metadata": {},
   "source": [
    "## Python Function Implementing Heap Sort\n",
    "\n",
    "***"
   ]
  },
  {
   "cell_type": "code",
   "execution_count": 1,
   "metadata": {},
   "outputs": [],
   "source": [
    "def swap(list, i, j):\n",
    "    # swap the elements i and j with each other\n",
    "    list[i], list[j] = list[j], list[i]"
   ]
  },
  {
   "cell_type": "code",
   "execution_count": 2,
   "metadata": {},
   "outputs": [],
   "source": [
    "def siftDown(list, i, upper):\n",
    "    # Moves the top element down so the new top element is the largest\n",
    "    while(True):\n",
    "        # get the indices of the left and right children\n",
    "        left, right = i*2+1, i*2+2\n",
    "        # check if there are two children\n",
    "        if max(left, right) < upper:\n",
    "            # two indices are valid - break\n",
    "            if list[i] >= max(list[left], list[right]): break\n",
    "            # check if left is greater than right\n",
    "            elif list[left] > list[right]:\n",
    "                # swap parent node with left child\n",
    "                swap(list, i, left)\n",
    "                # update pointer for parent node\n",
    "                i = left\n",
    "            # else swap with the right child\n",
    "            else:\n",
    "                swap(list, i, right)\n",
    "                # update pointer for parent node\n",
    "                i = right\n",
    "        # check if only the left child exists\n",
    "        elif left < upper:\n",
    "            # check if this child is greater than the parent\n",
    "            if list[left] > list[i]:\n",
    "                # swap parent and child\n",
    "                swap(list, i, left)\n",
    "                # update pointer for parent node\n",
    "                i = left\n",
    "            else: break # if condition fails break\n",
    "        # check if only the right child exists\n",
    "        elif right < upper:\n",
    "            # check if this child is greater than the parent\n",
    "            if list[right] > list[i]:\n",
    "                # swap parent and child\n",
    "                swap(list, i, right)\n",
    "                # update pointer for parent node\n",
    "                i = right\n",
    "            else: break # if condition fails break\n",
    "        # check if there are no children and break\n",
    "        else: break"
   ]
  },
  {
   "cell_type": "code",
   "execution_count": 3,
   "metadata": {},
   "outputs": [],
   "source": [
    "def heapSort(list):\n",
    "    # heapify into a max heap\n",
    "    for j in range((len(list)-2)//2, -1, -1):\n",
    "        # sift down the list\n",
    "        siftDown(list, j, len(list))\n",
    "    # implement sorting \n",
    "    for end in range(len(list)-1, 0, -1):\n",
    "        # swap at index 0 and end\n",
    "        swap(list, 0, end)\n",
    "        # siftdown new element after swap\n",
    "        siftDown(list, 0, end)"
   ]
  },
  {
   "cell_type": "code",
   "execution_count": 4,
   "metadata": {},
   "outputs": [
    {
     "data": {
      "text/plain": [
       "[23, 4, 16, 10, 32, 5, 12, 9, 27, 36]"
      ]
     },
     "execution_count": 4,
     "metadata": {},
     "output_type": "execute_result"
    }
   ],
   "source": [
    "# Create a list to sort \n",
    "numList = [23, 4, 16, 10, 32, 5, 12, 9, 27, 36]\n",
    "numList"
   ]
  },
  {
   "cell_type": "code",
   "execution_count": 5,
   "metadata": {},
   "outputs": [
    {
     "data": {
      "text/plain": [
       "[4, 5, 9, 10, 12, 16, 23, 27, 32, 36]"
      ]
     },
     "execution_count": 5,
     "metadata": {},
     "output_type": "execute_result"
    }
   ],
   "source": [
    "# Call the heapsort method and pass in the list to be sorted\n",
    "heapSort(numList)\n",
    "numList"
   ]
  },
  {
   "cell_type": "markdown",
   "metadata": {},
   "source": [
    "### Alternative Function Using Heap Queue Library"
   ]
  },
  {
   "cell_type": "code",
   "execution_count": 6,
   "metadata": {},
   "outputs": [],
   "source": [
    "\"\"\" Link to documentation - https://docs.python.org/3/library/heapq.html\n",
    "    Using the Heap Queue library we can reduce the amount of code by a large margin.\n",
    "    This is a very basic function that implements heap sorting by pushing all values onto a heap \n",
    "    and then popping off the smallest values one at a time. \n",
    "\"\"\"\n",
    "\n",
    "# import heappush and heappop from heapq library\n",
    "from heapq import heappush, heappop\n",
    "\n",
    "def heap_sort(list):\n",
    "    # create an empty array to store heap\n",
    "    heap = []\n",
    "    # for every value in the list \n",
    "    for value in list:\n",
    "        # call the heappush function and pass in the heap array and the values\n",
    "        heappush(heap, value)\n",
    "    # return the heap array and call heappop to pop the smallest values off the the top of the list \n",
    "    return [heappop(heap) for i in range(len(heap))]"
   ]
  },
  {
   "cell_type": "code",
   "execution_count": 7,
   "metadata": {},
   "outputs": [
    {
     "data": {
      "text/plain": [
       "[4, 5, 9, 10, 12, 16, 23, 27, 32, 36]"
      ]
     },
     "execution_count": 7,
     "metadata": {},
     "output_type": "execute_result"
    }
   ],
   "source": [
    "# call the new heap_sort method and pass in an array of numbers \n",
    "heap_sort([23, 4, 16, 10, 32, 5, 12, 9, 27, 36])"
   ]
  },
  {
   "cell_type": "markdown",
   "metadata": {},
   "source": [
    "## Explaination of the Computational Complexity of Heap Sort\n",
    "\n",
    "***"
   ]
  },
  {
   "cell_type": "markdown",
   "metadata": {},
   "source": [
    "ADD NOTES HERE"
   ]
  },
  {
   "cell_type": "markdown",
   "metadata": {},
   "source": [
    "## Explanation of how Graph Theory is used in Heap Sort\n",
    "\n",
    "***"
   ]
  },
  {
   "cell_type": "markdown",
   "metadata": {},
   "source": [
    "ADD NOTES HERE"
   ]
  },
  {
   "cell_type": "markdown",
   "metadata": {},
   "source": [
    "***\n",
    "\n",
    "## End of Notebook"
   ]
  }
 ],
 "metadata": {
  "kernelspec": {
   "display_name": "Python 3",
   "language": "python",
   "name": "python3"
  },
  "language_info": {
   "codemirror_mode": {
    "name": "ipython",
    "version": 3
   },
   "file_extension": ".py",
   "mimetype": "text/x-python",
   "name": "python",
   "nbconvert_exporter": "python",
   "pygments_lexer": "ipython3",
   "version": "3.8.10"
  }
 },
 "nbformat": 4,
 "nbformat_minor": 4
}
