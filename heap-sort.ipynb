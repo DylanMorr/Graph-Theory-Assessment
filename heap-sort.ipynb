{
 "cells": [
  {
   "cell_type": "markdown",
   "metadata": {},
   "source": [
    "# Heap Sort Notebook\n",
    "\n",
    "<br>\n",
    "\n",
    "***"
   ]
  },
  {
   "cell_type": "markdown",
   "metadata": {},
   "source": [
    "## Explanation of the Heap Sort Algoritm\n",
    "\n",
    "***"
   ]
  },
  {
   "cell_type": "markdown",
   "metadata": {},
   "source": [
    "- Heapsort is a very popular and efficient sorting algorithm in most cases.\n",
    "- Heapsort uses a comparison based sorting technique based on the binary heap data structure, this structure is a tree data structure that has at max two child nodes.\n",
    "- The two main forms of sorting used are Max Heap and Min Heap.\n",
    "- Min Heap works by comparing each node in the tree to see if it is higher or lower, if it is lower the elements in the nodes are swapped and the higher element is moved down the tree until the list is fully sorted.\n",
    "- Max Heap does the opposite of min and wants to order the list descending with the biggest elements at the top of the sorted list.\n",
    "- Both of these sorting techniques can be seen in the image below.\n",
    "- The heap before sorting = [50, 20, 40, 10, 70, 30, 60]\n",
    "<br>\n",
    "<img src=\"https://miro.medium.com/max/1316/1*02r6G-ho8DPnfiaOIHA2OA.png\" alt=\"Heap Sort Example\" width=\"600\" align=\"left\"/>"
   ]
  },
  {
   "cell_type": "markdown",
   "metadata": {},
   "source": [
    "## Python Function Implementing Heap Sort\n",
    "\n",
    "***"
   ]
  },
  {
   "cell_type": "markdown",
   "metadata": {},
   "source": [
    "ADD NOTES HERE"
   ]
  },
  {
   "cell_type": "markdown",
   "metadata": {},
   "source": [
    "## Explaination of the Computational Complexity of Heap Sort\n",
    "\n",
    "***"
   ]
  },
  {
   "cell_type": "markdown",
   "metadata": {},
   "source": [
    "ADD NOTES HERE"
   ]
  },
  {
   "cell_type": "markdown",
   "metadata": {},
   "source": [
    "## Explanation of how Graph Theory is used in Heap Sort\n",
    "\n",
    "***"
   ]
  },
  {
   "cell_type": "markdown",
   "metadata": {},
   "source": [
    "ADD NOTES HERE"
   ]
  },
  {
   "cell_type": "markdown",
   "metadata": {},
   "source": [
    "***\n",
    "\n",
    "## End of Notebook"
   ]
  }
 ],
 "metadata": {
  "kernelspec": {
   "display_name": "Python 3",
   "language": "python",
   "name": "python3"
  },
  "language_info": {
   "codemirror_mode": {
    "name": "ipython",
    "version": 3
   },
   "file_extension": ".py",
   "mimetype": "text/x-python",
   "name": "python",
   "nbconvert_exporter": "python",
   "pygments_lexer": "ipython3",
   "version": "3.8.10"
  }
 },
 "nbformat": 4,
 "nbformat_minor": 4
}
