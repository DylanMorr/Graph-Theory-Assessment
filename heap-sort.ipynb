{
 "cells": [
  {
   "cell_type": "markdown",
   "metadata": {},
   "source": [
    "# Heap Sort Notebook\n",
    "\n",
    "<br>\n",
    "\n",
    "***"
   ]
  },
  {
   "cell_type": "markdown",
   "metadata": {},
   "source": [
    "## Explanation of the Heap Sort Algoritm\n",
    "\n",
    "***"
   ]
  },
  {
   "cell_type": "markdown",
   "metadata": {},
   "source": [
    "- Heapsort is a very popular and efficient sorting algorithm in most cases.\n",
    "- Heapsort uses a comparison based sorting technique based on the binary heap data structure, this structure is a tree data structure that has at max two child nodes.\n",
    "- The two main forms of sorting used are Max Heap and Min Heap.\n",
    "- Min Heap works by comparing each node in the tree to see if it is higher or lower, if it is lower the elements in the nodes are swapped and the higher element is moved down the tree until the list is fully sorted.\n",
    "- Max Heap does the opposite of min and wants to order the list descending with the biggest elements at the top of the sorted list.\n",
    "- Both of these sorting techniques can be seen in the image below.\n",
    "- The heap before sorting = [50, 20, 40, 10, 70, 30, 60]\n",
    "<br><br>\n",
    "<img src=\"https://miro.medium.com/max/1316/1*02r6G-ho8DPnfiaOIHA2OA.png\" alt=\"Heap Sort Example\" width=\"600\" align=\"left\"/>"
   ]
  },
  {
   "cell_type": "markdown",
   "metadata": {},
   "source": [
    "## Python Function Implementing Heap Sort\n",
    "\n",
    "***"
   ]
  },
  {
   "cell_type": "code",
   "execution_count": 1,
   "metadata": {},
   "outputs": [],
   "source": [
    "def swap(list, i, j):\n",
    "    # swap the elements i and j with each other\n",
    "    list[i], list[j] = list[j], list[i]"
   ]
  },
  {
   "cell_type": "code",
   "execution_count": 2,
   "metadata": {},
   "outputs": [],
   "source": [
    "def siftDown(list, i, upper):\n",
    "    # Moves the top element down so the new top element is the largest\n",
    "    while(True):\n",
    "        # get the indices of the left and right children\n",
    "        left, right = i*2+1, i*2+2\n",
    "        # check if there are two children\n",
    "        if max(left, right) < upper:\n",
    "            # two indices are valid - break\n",
    "            if list[i] >= max(list[left], list[right]): break\n",
    "            # check if left is greater than right\n",
    "            elif list[left] > list[right]:\n",
    "                # swap parent node with left child\n",
    "                swap(list, i, left)\n",
    "                # update pointer for parent node\n",
    "                i = left\n",
    "            # else swap with the right child\n",
    "            else:\n",
    "                swap(list, i, right)\n",
    "                # update pointer for parent node\n",
    "                i = right\n",
    "        # check if only the left child exists\n",
    "        elif left < upper:\n",
    "            # check if this child is greater than the parent\n",
    "            if list[left] > list[i]:\n",
    "                # swap parent and child\n",
    "                swap(list, i, left)\n",
    "                # update pointer for parent node\n",
    "                i = left\n",
    "            else: break # if condition fails break\n",
    "        # check if only the right child exists\n",
    "        elif right < upper:\n",
    "            # check if this child is greater than the parent\n",
    "            if list[right] > list[i]:\n",
    "                # swap parent and child\n",
    "                swap(list, i, right)\n",
    "                # update pointer for parent node\n",
    "                i = right\n",
    "            else: break # if condition fails break\n",
    "        # check if there are no children and break\n",
    "        else: break"
   ]
  },
  {
   "cell_type": "code",
   "execution_count": 3,
   "metadata": {},
   "outputs": [],
   "source": [
    "def heapSort(list):\n",
    "    # heapify into a max heap\n",
    "    for j in range((len(list)-2)//2, -1, -1):\n",
    "        # sift down the list\n",
    "        siftDown(list, j, len(list))\n",
    "    # implement sorting \n",
    "    for end in range(len(list)-1, 0, -1):\n",
    "        # swap at index 0 and end\n",
    "        swap(list, 0, end)\n",
    "        # siftdown new element after swap\n",
    "        siftDown(list, 0, end)"
   ]
  },
  {
   "cell_type": "code",
   "execution_count": 4,
   "metadata": {},
   "outputs": [],
   "source": [
    "# Create a list to sort \n",
    "numList = [23, 4, 16, 10, 32, 5, 12, 9, 27, 36]\n",
    "numList"
   ]
  },
  {
   "cell_type": "code",
   "execution_count": 5,
   "metadata": {},
   "outputs": [],
   "source": [
    "# Call the heapsort method and pass in the list to be sorted\n",
    "heapSort(numList)\n",
    "numList"
   ]
  },
  {
   "cell_type": "markdown",
   "metadata": {},
   "source": [
    "### Alternative Function Using Heap Queue Library"
   ]
  },
  {
   "cell_type": "code",
   "execution_count": 6,
   "metadata": {},
   "outputs": [],
   "source": [
    "\"\"\" Link to documentation - https://docs.python.org/3/library/heapq.html\n",
    "    Using the Heap Queue library we can reduce the amount of code by a large margin.\n",
    "    This is a very basic function that implements heap sorting by pushing all values onto a heap \n",
    "    and then popping off the smallest values one at a time. \n",
    "\"\"\"\n",
    "\n",
    "# import heappush and heappop from heapq library\n",
    "from heapq import heappush, heappop\n",
    "\n",
    "def heap_sort(list):\n",
    "    # create an empty array to store heap\n",
    "    heap = []\n",
    "    # for every value in the list \n",
    "    for value in list:\n",
    "        # call the heappush function and pass in the heap array and the values\n",
    "        heappush(heap, value)\n",
    "    # return the heap array and call heappop to pop the smallest values off the the top of the list \n",
    "    return [heappop(heap) for i in range(len(heap))]"
   ]
  },
  {
   "cell_type": "code",
   "execution_count": 7,
   "metadata": {},
   "outputs": [
    {
     "data": {
      "text/plain": [
       "[4, 5, 9, 10, 12, 16, 23, 27, 32, 36]"
      ]
     },
     "execution_count": 7,
     "metadata": {},
     "output_type": "execute_result"
    }
   ],
   "source": [
    "# call the new heap_sort method and pass in an array of numbers \n",
    "heap_sort([23, 4, 16, 10, 32, 5, 12, 9, 27, 36])"
   ]
  },
  {
   "cell_type": "markdown",
   "metadata": {},
   "source": [
    "## Explaination of the Computational Complexity of Heap Sort\n",
    "\n",
    "***"
   ]
  },
  {
   "cell_type": "markdown",
   "metadata": {},
   "source": [
    "- To explain the computational complexity of heap sort I'm going to break it up into the different aspects of it.\n",
    "- These include:\n",
    "    1. Complexity of inserting a new node\n",
    "    2. Complexity of removing the maximum value node\n",
    "    3. Complexity of creating a heap\n",
    "    4. The total time complexity\n",
    "    5. The worst case time complexity\n",
    "    6. The best case time complexity\n",
    "    7. The average time complexity\n",
    "    8. The space complexity"
   ]
  },
  {
   "cell_type": "markdown",
   "metadata": {},
   "source": [
    "### 1. Complexity of Inserting a New Node"
   ]
  },
  {
   "cell_type": "markdown",
   "metadata": {},
   "source": [
    "- When inserting a new value into a heap the maximum number of steps needed to be taken is O(log(n)), which is always the maximum height of binary trees.\n",
    "- On inserting a value it will be swapped with a value greater than it, and the number of swaps would be O(log(n))."
   ]
  },
  {
   "cell_type": "markdown",
   "metadata": {},
   "source": [
    "### 2. Complexity of Removing the Maximum Value Node"
   ]
  },
  {
   "cell_type": "markdown",
   "metadata": {},
   "source": [
    "- When removing the maximum value node from a heap to the end of the list the maximum steps required to complete is also O(log(n)).\n",
    "- It is the exact same thing as inserting a node only the node is going in the other direction as we swap the maximum value with a value lower than it until it has reached the bottom level of the tree."
   ]
  },
  {
   "cell_type": "markdown",
   "metadata": {},
   "source": [
    "### 3. Complexity of Creating a Heap"
   ]
  },
  {
   "cell_type": "markdown",
   "metadata": {},
   "source": [
    "- In the heapSort method above when creating the heap itself the time complexity is O(n).\n",
    "- This is because not all nodes will move on creation of the heap only the root nodes and the middle nodes move while the nodes at the bottom level of the tree don't move at all.\n",
    "- All the levels in between the top and bottom levels will move down differently depending on how high the level is.\n",
    "- The second last level moves once, the third last twice and so on.\n",
    "- The calculation to calculate the complexity returns the complexity O(n) everytime and it is as follows:\n",
    "    - (n/2 * 0) + (n/4 * 1) + (n/8 * 2) + (n/16 * 3) + ...h        \n",
    "    - n/2 refers to the bottom level of the tree and the value of n/? doubles with each level you rise from the bottom.\n",
    "    - the h at the end is the height of the max-heap structure."
   ]
  },
  {
   "cell_type": "markdown",
   "metadata": {},
   "source": [
    "### 4. The Total Time Complexity"
   ]
  },
  {
   "cell_type": "markdown",
   "metadata": {},
   "source": [
    "- The total time complexity for the heap sort is O(n(log(n))).\n",
    "- This is because:\n",
    "    - The first removal of a node takes log(n) time.\n",
    "    - The second takes log(n-1) time.\n",
    "    - The third take log(n-2) time.\n",
    "    - This continues until the last node where the time take is log(1).\n",
    "- We can use this calculation to see the complexity working out:\n",
    "    - log(n) + log(n-1) + log(n-2) + ....log(1)\n",
    "    - as log(x) + log(y) = log(x * y), we get\n",
    "    - =log(n∗(n−1)∗(n−2)∗…∗2∗1)\n",
    "    - =log(n!)\n",
    "    - Upon further simplification (using Stirling's approximation), log(n!) turns out to be\n",
    "    - =n∗log(n)−n+O(log(n))\n",
    "- This calculation leaves us with O(n(log(n))) which is the total runtime of the algorithm."
   ]
  },
  {
   "cell_type": "markdown",
   "metadata": {},
   "source": [
    "### 5. The Worst Case Time Complexity"
   ]
  },
  {
   "cell_type": "markdown",
   "metadata": {},
   "source": [
    "- The worst case possible for a heap sort to encounter is when all the elements in a list are different.\n",
    "- This means heapifying has to be done everytime an element is removed.\n",
    "- The number of swaps required to remove every element is log(n).\n",
    "- This has to be done for every node which gives us the calculation of n * (log(n)).\n",
    "- This means the worst possible runtime for heap sort is O(n(log(n)))."
   ]
  },
  {
   "cell_type": "markdown",
   "metadata": {},
   "source": [
    "### 6. The Best Case Time Complexity"
   ]
  },
  {
   "cell_type": "markdown",
   "metadata": {},
   "source": [
    "- The best case possible for a heap sortis when all the elements in a list are identical.\n",
    "- This means removing each node only takes a constant time of O(1).\n",
    "- No nodes have to be moved up or down in this situation.\n",
    "- The calculation that gives us the best runtime is n * O(1).\n",
    "- This leaves us with a runtime of O(n)."
   ]
  },
  {
   "cell_type": "markdown",
   "metadata": {},
   "source": [
    "### 7. The Average Time Complexity"
   ]
  },
  {
   "cell_type": "markdown",
   "metadata": {},
   "source": [
    "- To calculate the average time you need to look at all possible inputs and any distinct elements.\n",
    "- The heapify function would have to perform like this:\n",
    "    - log(n)/2 - first iteration of heapify\n",
    "    - log(n-1)/2 - second iteration of heapify\n",
    "    - log(n-2)/2 - third iteration of heapify\n",
    "    - etc. \n",
    "- The calculation looks like this:\n",
    "    - (log(n))/2 + (log(n-1))/2 + (log(n-2))/2 + (log(n-3))/2 + ...\n",
    "    - Final result would be:\n",
    "    - =1/2(log(n!))\n",
    "    - =1/2(n∗log(n)−n+O(log(n)))\n",
    "- To calculate for all nodes (n * O(n(log(n)))).\n",
    "- To finally get the average runtime divide by n which leave O(n(log(n)))."
   ]
  },
  {
   "cell_type": "markdown",
   "metadata": {},
   "source": [
    "### 8. The Space Complexity"
   ]
  },
  {
   "cell_type": "markdown",
   "metadata": {},
   "source": [
    "- With heapsort being an in-place sorting algorithm the space requirement is constant.\n",
    "- This is due to the fact that when anything is inputted the list of items is arranged in place in a heap structure.\n",
    "- The removed item is also placed at the end of the list after taking the max node from the heap.\n",
    "- This means there is no extra space used when implementing the algorithm so the space complexity is O(1)."
   ]
  },
  {
   "cell_type": "markdown",
   "metadata": {},
   "source": [
    "## Explanation of how Graph Theory is used in Heap Sort\n",
    "\n",
    "***"
   ]
  },
  {
   "cell_type": "markdown",
   "metadata": {},
   "source": [
    "ADD NOTES HERE"
   ]
  },
  {
   "cell_type": "markdown",
   "metadata": {},
   "source": [
    "***\n",
    "\n",
    "## End of Notebook"
   ]
  }
 ],
 "metadata": {
  "kernelspec": {
   "display_name": "Python 3",
   "language": "python",
   "name": "python3"
  },
  "language_info": {
   "codemirror_mode": {
    "name": "ipython",
    "version": 3
   },
   "file_extension": ".py",
   "mimetype": "text/x-python",
   "name": "python",
   "nbconvert_exporter": "python",
   "pygments_lexer": "ipython3",
   "version": "3.8.10"
  }
 },
 "nbformat": 4,
 "nbformat_minor": 4
}
