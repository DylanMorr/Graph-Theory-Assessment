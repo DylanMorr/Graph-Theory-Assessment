{
 "cells": [
  {
   "cell_type": "markdown",
   "metadata": {},
   "source": [
    "# Graph Isomorphism Notebook\n",
    "\n",
    "<br>\n",
    "\n",
    "***"
   ]
  },
  {
   "cell_type": "markdown",
   "metadata": {},
   "source": [
    "## Explanation of the Graph Isomorphism Problem\n",
    "\n",
    "***"
   ]
  },
  {
   "cell_type": "markdown",
   "metadata": {},
   "source": [
    "- The Graph Isomorphism Problem is an algorithmic problem that has been studied for a long time.\n",
    "- The main aspect of the problem is working out if two graphs are structurally the same graph or isomorphic.\n",
    "- The computational complexity of the problem is unsolved and it is unknown whether it can be solved quickly in polynomial time or if it is more difficult to solve and is NP-Complete.\n",
    "- For two graphs to be isomorphic they have to meet four conditions:\n",
    "    - Number of vertices in boths graphs are the same.\n",
    "    - Number of edges in both graphs are the same.\n",
    "    - Degree sequence of both graphs are the same.\n",
    "    - If there is a cycle of length k is formed by all the vertices {v1, v2, v3, ...., vk} on one graph, then there must be a cycle of vertices exactly the same length in the other graph {f(v1), f(v2), f(v3), ...., f(vk)}."
   ]
  },
  {
   "cell_type": "markdown",
   "metadata": {},
   "source": [
    "### Example of a Graph Isomorphism Problem"
   ]
  },
  {
   "cell_type": "markdown",
   "metadata": {},
   "source": [
    "<img src=\"https://www.gatevidyalay.com/wp-content/uploads/2018/05/Graph-Isomorphism-Problem-02.png\" align=\"left\" />"
   ]
  },
  {
   "cell_type": "markdown",
   "metadata": {},
   "source": [
    "To start working out if the graphs are isomorphic or not we must first check all the conditions are met."
   ]
  },
  {
   "cell_type": "markdown",
   "metadata": {},
   "source": [
    "1. Check number of vertices in the graphs\n",
    "- G1 has 4 vertices\n",
    "- G2 has 4 vertices\n",
    "- G3 has 4 vertices\n",
    "\n",
    "All the vertices are the same so this condition is satified."
   ]
  },
  {
   "cell_type": "markdown",
   "metadata": {},
   "source": [
    "2. Check number of edges in graphs\n",
    "- G1 has 5 edges\n",
    "- G2 has 5 edges\n",
    "- G3 has 4 edges\n",
    "\n",
    "G1 and G2 have the same number of edges but G3 is different.\n",
    "- This means G3 cannot be isomorphic to either G1 nor G2 but G1 and G2 may be to each other.\n"
   ]
  },
  {
   "cell_type": "markdown",
   "metadata": {},
   "source": [
    "3. Check degree sequence of graphs\n",
    "- Only G1 and G2 graph tested now as G3 is ruled out.\n",
    "- The degree sequence in G1 = {2, 2, 3, 3}\n",
    "- The degree sequence in G2 = {2, 2, 3, 3}\n",
    "\n",
    "G1 and G2 have the same degree sequence, the condition is satisfied."
   ]
  },
  {
   "cell_type": "markdown",
   "metadata": {},
   "source": [
    "4. Compare the graphs two cycle lengths of the vertices\n",
    "- Both graphs contain two cycles each of length 3 as the vertices have degrees {2, 3, 3}.\n",
    "- Both graphs have the same cycles so this condition is satisfied."
   ]
  },
  {
   "cell_type": "markdown",
   "metadata": {},
   "source": [
    "\n",
    "From here we can determine that graphs G1 and G2 are almost definitely isomorphic and we can check this further by examining the complement graphs below."
   ]
  },
  {
   "cell_type": "markdown",
   "metadata": {},
   "source": [
    "<img src=\"https://www.gatevidyalay.com/wp-content/uploads/2018/05/Graph-Isomorphism-Problem-02-Solution-Complement-Graphs.png\" align=\"left\" width=\"350\"/>"
   ]
  },
  {
   "cell_type": "markdown",
   "metadata": {},
   "source": [
    "By looking at these graphs is it clear to see that G1 and G2 are in face isomorphic."
   ]
  },
  {
   "cell_type": "markdown",
   "metadata": {},
   "source": [
    "## Explanation of how Graphs can be represented in Data Structures\n",
    "\n",
    "***"
   ]
  },
  {
   "cell_type": "markdown",
   "metadata": {},
   "source": [
    "ADD NOTES HERE"
   ]
  },
  {
   "cell_type": "markdown",
   "metadata": {},
   "source": [
    "## Python function implementing an algorithm to determine if two graphs are isomorphic or not\n",
    "\n",
    "***"
   ]
  },
  {
   "cell_type": "markdown",
   "metadata": {},
   "source": [
    "ADD NOTES HERE"
   ]
  },
  {
   "cell_type": "markdown",
   "metadata": {},
   "source": [
    "## Discussion of the Computational Complexity of the Graph Isomorphism Problem\n",
    "\n",
    "***"
   ]
  },
  {
   "cell_type": "markdown",
   "metadata": {},
   "source": [
    "ADD NOTES HERE"
   ]
  },
  {
   "cell_type": "markdown",
   "metadata": {},
   "source": [
    "***\n",
    "\n",
    "## End of Notebook"
   ]
  }
 ],
 "metadata": {
  "kernelspec": {
   "display_name": "Python 3 (ipykernel)",
   "language": "python",
   "name": "python3"
  },
  "language_info": {
   "codemirror_mode": {
    "name": "ipython",
    "version": 3
   },
   "file_extension": ".py",
   "mimetype": "text/x-python",
   "name": "python",
   "nbconvert_exporter": "python",
   "pygments_lexer": "ipython3",
   "version": "3.9.7"
  }
 },
 "nbformat": 4,
 "nbformat_minor": 4
}
