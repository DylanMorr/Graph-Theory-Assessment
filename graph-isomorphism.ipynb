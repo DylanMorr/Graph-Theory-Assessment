{
 "cells": [
  {
   "cell_type": "markdown",
   "metadata": {},
   "source": [
    "# Graph Isomorphism Notebook\n",
    "\n",
    "<br>\n",
    "\n",
    "***"
   ]
  },
  {
   "cell_type": "markdown",
   "metadata": {},
   "source": [
    "## Explanation of the Graph Isomorphism Problem\n",
    "\n",
    "***"
   ]
  },
  {
   "cell_type": "markdown",
   "metadata": {},
   "source": [
    "- The Graph Isomorphism Problem is an algorithmic problem that has been studied for a long time.\n",
    "- The main aspect of the problem is working out if two graphs are structurally the same graph or isomorphic.\n",
    "- The computational complexity of the problem is unsolved and it is unknown whether it can be solved quickly in polynomial time or if it is more difficult to solve and is NP-Complete.\n",
    "- For two graphs to be isomorphic they have to meet four conditions:\n",
    "    - Number of vertices in boths graphs are the same.\n",
    "    - Number of edges in both graphs are the same.\n",
    "    - Degree sequence of both graphs are the same.\n",
    "    - If there is a cycle of length k is formed by all the vertices {v1, v2, v3, ...., vk} on one graph, then there must be a cycle of vertices exactly the same length in the other graph {f(v1), f(v2), f(v3), ...., f(vk)}."
   ]
  },
  {
   "cell_type": "markdown",
   "metadata": {},
   "source": [
    "### Example of a Graph Isomorphism Problem"
   ]
  },
  {
   "cell_type": "markdown",
   "metadata": {},
   "source": [
    "<img src=\"https://www.gatevidyalay.com/wp-content/uploads/2018/05/Graph-Isomorphism-Problem-02.png\" align=\"left\" />"
   ]
  },
  {
   "cell_type": "markdown",
   "metadata": {},
   "source": [
    "To start working out if the graphs are isomorphic or not we must first check all the conditions are met."
   ]
  },
  {
   "cell_type": "markdown",
   "metadata": {},
   "source": [
    "1. Check number of vertices in the graphs\n",
    "- G1 has 4 vertices\n",
    "- G2 has 4 vertices\n",
    "- G3 has 4 vertices\n",
    "\n",
    "All the vertices are the same so this condition is satified."
   ]
  },
  {
   "cell_type": "markdown",
   "metadata": {},
   "source": [
    "2. Check number of edges in graphs\n",
    "- G1 has 5 edges\n",
    "- G2 has 5 edges\n",
    "- G3 has 4 edges\n",
    "\n",
    "G1 and G2 have the same number of edges but G3 is different.\n",
    "- This means G3 cannot be isomorphic to either G1 nor G2 but G1 and G2 may be to each other.\n"
   ]
  },
  {
   "cell_type": "markdown",
   "metadata": {},
   "source": [
    "3. Check degree sequence of graphs\n",
    "- Only G1 and G2 graph tested now as G3 is ruled out.\n",
    "- The degree sequence in G1 = {2, 2, 3, 3}\n",
    "- The degree sequence in G2 = {2, 2, 3, 3}\n",
    "\n",
    "G1 and G2 have the same degree sequence, the condition is satisfied."
   ]
  },
  {
   "cell_type": "markdown",
   "metadata": {},
   "source": [
    "4. Compare the graphs two cycle lengths of the vertices\n",
    "- Both graphs contain two cycles each of length 3 as the vertices have degrees {2, 3, 3}.\n",
    "- Both graphs have the same cycles so this condition is satisfied."
   ]
  },
  {
   "cell_type": "markdown",
   "metadata": {},
   "source": [
    "\n",
    "From here we can determine that graphs G1 and G2 are almost definitely isomorphic and we can check this further by examining the complement graphs below."
   ]
  },
  {
   "cell_type": "markdown",
   "metadata": {},
   "source": [
    "<img src=\"https://www.gatevidyalay.com/wp-content/uploads/2018/05/Graph-Isomorphism-Problem-02-Solution-Complement-Graphs.png\" align=\"left\" width=\"350\"/>"
   ]
  },
  {
   "cell_type": "markdown",
   "metadata": {},
   "source": [
    "By looking at these graphs is it clear to see that G1 and G2 are in fact isomorphic."
   ]
  },
  {
   "cell_type": "markdown",
   "metadata": {},
   "source": [
    "## Explanation of how Graphs can be represented in Data Structures\n",
    "\n",
    "***"
   ]
  },
  {
   "cell_type": "markdown",
   "metadata": {},
   "source": [
    "- Graphs can be represented using 3 common data structures:\n",
    "    1. Adjacency Matrix\n",
    "    2. Adjacency List\n",
    "    3. Adjacency Set"
   ]
  },
  {
   "cell_type": "markdown",
   "metadata": {},
   "source": [
    "### 1. Adjacency Matrix"
   ]
  },
  {
   "cell_type": "markdown",
   "metadata": {},
   "source": [
    "- The adjacency matrix is like a table with rows and columns where the row and column labels represent nodes of a graph.\n",
    "- It is a square matrix where number of rows, cols and nodes are the same.\n",
    "- Each cell in the matrix is an edge or relationship between two nodes.\n",
    "- Example being Aij which represents the number of links from i to j, given two nodes i and j."
   ]
  },
  {
   "cell_type": "markdown",
   "metadata": {},
   "source": [
    "#### Directed Graph Adjacency Matrix\n",
    "<img src=\"https://d1m75rqqgidzqn.cloudfront.net/wp-data/2020/10/13105215/image-15.png\" width=\"450\" />\n",
    "\n",
    "- The above image shows a directed graph, it is a square matrix and the number of rows, columns and node are the same.\n",
    "- Each row and column is linked to a node on the graph.\n",
    "- The cells inside the matrix are the connections between all the nodes.\n",
    "- Since it is directed no node is connected to itself, all cells on the diagonal of the matrix are zero.\n",
    "- The rest of the cells if there is a directed edge from one node to another then the corresponding cell will be marked one else zero."
   ]
  },
  {
   "cell_type": "markdown",
   "metadata": {},
   "source": [
    "#### Undirected Graph Adjacency Matrix\n",
    "<img src=\"https://d1m75rqqgidzqn.cloudfront.net/wp-data/2020/10/13105241/image-16.png\" width=\"375\" />\n",
    "\n",
    "- The above image shows an undirected graph, there are five vertices and the two vertices A and B are connect to each other both ways.\n",
    "- This means the the source for A -> B and b -> A are marked with a one.\n",
    "- This meets the requirements for an undirected edge.\n",
    "- The second entry in the matrix is at a mirrored location across the main diagonal."
   ]
  },
  {
   "cell_type": "markdown",
   "metadata": {},
   "source": [
    "#### Weighted Graph Adjacency Matrix\n",
    "<img src=\"https://d1m75rqqgidzqn.cloudfront.net/wp-data/2020/10/13105309/image-17.png\" width=\"\" />\n",
    "\n",
    "- The above image shows a weighted graph.\n",
    "- The cells are marked with edge weights instead of ones in the matrix.\n",
    "- For example in the image the weight on the edge connecting nodes C and D is 4.\n",
    "- The corresponding cells in the matrix at row C column D and row D column C are marked 4."
   ]
  },
  {
   "cell_type": "markdown",
   "metadata": {},
   "source": [
    "#### Plotting an Adjacency Matrix"
   ]
  },
  {
   "cell_type": "code",
   "execution_count": 1,
   "metadata": {},
   "outputs": [],
   "source": [
    "# Import networkx and matplotlib libraries\n",
    "import networkx as nx\n",
    "import matplotlib as plt"
   ]
  },
  {
   "cell_type": "code",
   "execution_count": 2,
   "metadata": {},
   "outputs": [],
   "source": [
    "# Create a graph with 6 nodes \n",
    "G=nx.cycle_graph(6)"
   ]
  },
  {
   "cell_type": "code",
   "execution_count": 3,
   "metadata": {},
   "outputs": [],
   "source": [
    "# Create the adjacency matrix\n",
    "x=nx.adjacency_matrix(G)"
   ]
  },
  {
   "cell_type": "code",
   "execution_count": 4,
   "metadata": {},
   "outputs": [
    {
     "name": "stdout",
     "output_type": "stream",
     "text": [
      "[[0 1 0 0 0 1]\n",
      " [1 0 1 0 0 0]\n",
      " [0 1 0 1 0 0]\n",
      " [0 0 1 0 1 0]\n",
      " [0 0 0 1 0 1]\n",
      " [1 0 0 0 1 0]]\n"
     ]
    }
   ],
   "source": [
    "# Output the matrix\n",
    "print(x.todense())"
   ]
  },
  {
   "cell_type": "markdown",
   "metadata": {},
   "source": [
    "### 2. Adjacency List"
   ]
  },
  {
   "cell_type": "markdown",
   "metadata": {},
   "source": [
    "#### Directed Graph Adjacency List\n",
    "<img src=\"https://d1m75rqqgidzqn.cloudfront.net/wp-data/2020/10/13105411/image-19.png\" width=\"400\" />\n",
    "\n",
    "- The above image shows a directed graph represented as an adjacency list.\n",
    "- Every vertex is a node object and it may contain either data or a reference to a linked list.\n",
    "- This linked list provides a list of all the nodes that are adjacent to the current onde.\n",
    "- For example if a graph has an edge that connects nodes A and b, then node A will be available in B's linked list.\n",
    "- In the image we see node E is empty as it corresponds to no other node."
   ]
  },
  {
   "cell_type": "markdown",
   "metadata": {},
   "source": [
    "#### Undirected Graph Adjacency List\n",
    "<img src=\"https://d1m75rqqgidzqn.cloudfront.net/wp-data/2020/10/13105451/image-20.png\" width=\"475\" />\n",
    "\n",
    "- The above image shows an undirected graph with five nodes.\n",
    "- Each of these nodes connect to each other both ways.\n",
    "- This means each node will have all the nodes it is connected to in its linked list, as shown in the above image."
   ]
  },
  {
   "cell_type": "markdown",
   "metadata": {},
   "source": [
    "#### Implementing the Adjacency List function - adjacency_list()"
   ]
  },
  {
   "cell_type": "code",
   "execution_count": 5,
   "metadata": {},
   "outputs": [],
   "source": [
    "# Import networkx and matplotlib libraries\n",
    "import networkx as nx\n",
    "import matplotlib as plt"
   ]
  },
  {
   "cell_type": "code",
   "execution_count": 6,
   "metadata": {},
   "outputs": [],
   "source": [
    "# Create a ladder graph\n",
    "G = nx.ladder_graph(4)"
   ]
  },
  {
   "cell_type": "code",
   "execution_count": 7,
   "metadata": {},
   "outputs": [
    {
     "name": "stdout",
     "output_type": "stream",
     "text": [
      "(0, {1: {}, 4: {}})\n",
      "(1, {0: {}, 2: {}, 5: {}})\n",
      "(2, {1: {}, 3: {}, 6: {}})\n",
      "(3, {2: {}, 7: {}})\n",
      "(4, {5: {}, 0: {}})\n",
      "(5, {4: {}, 6: {}, 1: {}})\n",
      "(6, {5: {}, 7: {}, 2: {}})\n",
      "(7, {6: {}, 3: {}})\n"
     ]
    }
   ],
   "source": [
    "# In a for loop loop through each line and print out the line\n",
    "for line in G.adjacency():\n",
    "    print(line)"
   ]
  },
  {
   "cell_type": "markdown",
   "metadata": {},
   "source": [
    "### 3. Adjacency Set"
   ]
  },
  {
   "cell_type": "markdown",
   "metadata": {},
   "source": [
    "- The set allows us to remove some of the challenges faced with the list.\n",
    "- The set is very similar to the list except for instead of a linked list a set of adjacent vertices is provided.\n",
    "- The list and set are often used for sparse graphs with few connections between nodes while the matrix works well for graphs with lots of well connected nodes."
   ]
  },
  {
   "cell_type": "markdown",
   "metadata": {},
   "source": [
    "## Python function implementing an algorithm to determine if two graphs are isomorphic or not\n",
    "\n",
    "***"
   ]
  },
  {
   "cell_type": "markdown",
   "metadata": {},
   "source": [
    "ADD NOTES HERE"
   ]
  },
  {
   "cell_type": "markdown",
   "metadata": {},
   "source": [
    "## Discussion of the Computational Complexity of the Graph Isomorphism Problem\n",
    "\n",
    "***"
   ]
  },
  {
   "cell_type": "markdown",
   "metadata": {},
   "source": [
    "ADD NOTES HERE"
   ]
  },
  {
   "cell_type": "markdown",
   "metadata": {},
   "source": [
    "***\n",
    "\n",
    "## End of Notebook"
   ]
  }
 ],
 "metadata": {
  "kernelspec": {
   "display_name": "Python 3 (ipykernel)",
   "language": "python",
   "name": "python3"
  },
  "language_info": {
   "codemirror_mode": {
    "name": "ipython",
    "version": 3
   },
   "file_extension": ".py",
   "mimetype": "text/x-python",
   "name": "python",
   "nbconvert_exporter": "python",
   "pygments_lexer": "ipython3",
   "version": "3.9.7"
  }
 },
 "nbformat": 4,
 "nbformat_minor": 4
}
